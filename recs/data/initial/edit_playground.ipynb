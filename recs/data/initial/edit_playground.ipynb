{
 "cells": [
  {
   "cell_type": "code",
   "execution_count": 19,
   "outputs": [],
   "source": [
    "import pandas as pd\n",
    "\n",
    "books_df = pd.read_csv('books.csv', encoding='ISO-8859-1', on_bad_lines='skip', delimiter=\";\",\n",
    "                       dtype={'ISBN': 'str', \"Book-Title\": 'str', \"Book-Author\": 'str',\n",
    "                              \"Year-Of-Publication\": 'str', \"Publisher\": 'str',\n",
    "                              \"Image-URL-S\": 'str', \"Image-URL-M\": 'str', \"Image-URL-L\": 'str'})\n",
    "books_df.columns = ['isbn', \"title\", \"author\", \"year\", \"publisher\", \"image_s\", \"image_m\", \"image_l\"]\n",
    "books_df = books_df.drop_duplicates(['title'])"
   ],
   "metadata": {
    "collapsed": false,
    "pycharm": {
     "name": "#%%\n"
    }
   }
  },
  {
   "cell_type": "code",
   "execution_count": 34,
   "outputs": [],
   "source": [
    "books_ratings_df = pd.read_csv('books_ratings.csv', encoding='ISO-8859-1', on_bad_lines='skip', delimiter=\";\")"
   ],
   "metadata": {
    "collapsed": false,
    "pycharm": {
     "name": "#%%\n"
    }
   }
  },
  {
   "cell_type": "code",
   "execution_count": 35,
   "outputs": [
    {
     "name": "stdout",
     "output_type": "stream",
     "text": [
      "['User-ID', 'ISBN', 'Book-Rating']\n"
     ]
    }
   ],
   "source": [
    "print(list(books_ratings_df.columns.values))"
   ],
   "metadata": {
    "collapsed": false,
    "pycharm": {
     "name": "#%%\n"
    }
   }
  },
  {
   "cell_type": "code",
   "execution_count": 35,
   "outputs": [],
   "source": [],
   "metadata": {
    "collapsed": false,
    "pycharm": {
     "name": "#%%\n"
    }
   }
  },
  {
   "cell_type": "code",
   "execution_count": 36,
   "outputs": [],
   "source": [
    "books_ratings_df.columns = ['userId', \"isbn\", \"rating\"]\n",
    "books_ratings_df = books_ratings_df[books_ratings_df[\"rating\"] > 0]\n",
    "books_ratings_df = books_ratings_df[books_ratings_df.isbn.isin(set(books_df.isbn.values))]\n",
    "\n",
    "unique_isbn_set = set(books_df.isbn.values)\n",
    "isbnToIdx = {}\n",
    "currentId = 0\n",
    "\n",
    "for isbn in unique_isbn_set:\n",
    "    isbnToIdx[isbn] = currentId\n",
    "    currentId += 1\n",
    "\n",
    "books_df['bookId'] = books_df.apply(lambda row: isbnToIdx[row.isbn], axis=1)\n",
    "books_ratings_df[\"bookId\"] = books_ratings_df.isbn.map(isbnToIdx)\n",
    "# books_ratings_df = books_ratings_df.dropna(axis=\"rows\", inplace=True)\n",
    "# books_ratings_df = books_ratings_df.astype({'bookId': int})"
   ],
   "metadata": {
    "collapsed": false,
    "pycharm": {
     "name": "#%%\n"
    }
   }
  },
  {
   "cell_type": "code",
   "execution_count": 43,
   "outputs": [
    {
     "data": {
      "text/plain": "        userId        isbn  rating  bookId\n9563         8  0002005018       5  210954\n9571         8  074322678X       5  204310\n9575         8  0887841740       5  124639\n9576         8  1552041778       5  115766\n9578         8  1567407781       6  133464\n...        ...         ...     ...     ...\n418968   99996  1853260290       7   42452\n418971   99997  0316666343       9   87763\n418972   99997  0345443284       8   25009\n418976   99997  0451202341       8  125234\n418978   99998  0140622144       5   74068\n\n[127025 rows x 4 columns]",
      "text/html": "<div>\n<style scoped>\n    .dataframe tbody tr th:only-of-type {\n        vertical-align: middle;\n    }\n\n    .dataframe tbody tr th {\n        vertical-align: top;\n    }\n\n    .dataframe thead th {\n        text-align: right;\n    }\n</style>\n<table border=\"1\" class=\"dataframe\">\n  <thead>\n    <tr style=\"text-align: right;\">\n      <th></th>\n      <th>userId</th>\n      <th>isbn</th>\n      <th>rating</th>\n      <th>bookId</th>\n    </tr>\n  </thead>\n  <tbody>\n    <tr>\n      <th>9563</th>\n      <td>8</td>\n      <td>0002005018</td>\n      <td>5</td>\n      <td>210954</td>\n    </tr>\n    <tr>\n      <th>9571</th>\n      <td>8</td>\n      <td>074322678X</td>\n      <td>5</td>\n      <td>204310</td>\n    </tr>\n    <tr>\n      <th>9575</th>\n      <td>8</td>\n      <td>0887841740</td>\n      <td>5</td>\n      <td>124639</td>\n    </tr>\n    <tr>\n      <th>9576</th>\n      <td>8</td>\n      <td>1552041778</td>\n      <td>5</td>\n      <td>115766</td>\n    </tr>\n    <tr>\n      <th>9578</th>\n      <td>8</td>\n      <td>1567407781</td>\n      <td>6</td>\n      <td>133464</td>\n    </tr>\n    <tr>\n      <th>...</th>\n      <td>...</td>\n      <td>...</td>\n      <td>...</td>\n      <td>...</td>\n    </tr>\n    <tr>\n      <th>418968</th>\n      <td>99996</td>\n      <td>1853260290</td>\n      <td>7</td>\n      <td>42452</td>\n    </tr>\n    <tr>\n      <th>418971</th>\n      <td>99997</td>\n      <td>0316666343</td>\n      <td>9</td>\n      <td>87763</td>\n    </tr>\n    <tr>\n      <th>418972</th>\n      <td>99997</td>\n      <td>0345443284</td>\n      <td>8</td>\n      <td>25009</td>\n    </tr>\n    <tr>\n      <th>418976</th>\n      <td>99997</td>\n      <td>0451202341</td>\n      <td>8</td>\n      <td>125234</td>\n    </tr>\n    <tr>\n      <th>418978</th>\n      <td>99998</td>\n      <td>0140622144</td>\n      <td>5</td>\n      <td>74068</td>\n    </tr>\n  </tbody>\n</table>\n<p>127025 rows × 4 columns</p>\n</div>"
     },
     "execution_count": 43,
     "metadata": {},
     "output_type": "execute_result"
    }
   ],
   "source": [
    "books_ratings_df[books_ratings_df[\"userId\"] < 100000]"
   ],
   "metadata": {
    "collapsed": false,
    "pycharm": {
     "name": "#%%\n"
    }
   }
  },
  {
   "cell_type": "code",
   "execution_count": null,
   "outputs": [],
   "source": [
    "books_cb_df = pd.read_csv('books_cb.csv')\n",
    "books_cb_df.head()"
   ],
   "metadata": {
    "collapsed": false,
    "pycharm": {
     "name": "#%%\n"
    }
   }
  },
  {
   "cell_type": "code",
   "execution_count": null,
   "outputs": [],
   "source": [
    "titleToBookId = {}\n",
    "\n",
    "bookIdToDesc = {}\n",
    "bookIdToCategories = {}"
   ],
   "metadata": {
    "collapsed": false,
    "pycharm": {
     "name": "#%%\n"
    }
   }
  },
  {
   "cell_type": "code",
   "execution_count": null,
   "outputs": [],
   "source": [
    "\n",
    "\n",
    "def update_row(row):\n",
    "    titleToBookId[row.title] = row.bookId\n",
    "    return row\n",
    "\n",
    "\n",
    "books_df.apply(update_row, axis=1)"
   ],
   "metadata": {
    "collapsed": false,
    "pycharm": {
     "name": "#%%\n"
    }
   }
  },
  {
   "cell_type": "code",
   "execution_count": 149,
   "outputs": [
    {
     "data": {
      "text/plain": "3617"
     },
     "execution_count": 149,
     "metadata": {},
     "output_type": "execute_result"
    }
   ],
   "source": [
    "books_cb_df['bookId'] = books_cb_df.isbn10.map(isbnToIdx)\n",
    "\n",
    "books_cb_df['bookId'] = books_cb_df.bookId.fillna(books_cb_df.title.map(titleToBookId))\n",
    "\n",
    "books_cb_df = books_cb_df.dropna(subset=[\"bookId\"])\n",
    "books_cb_df = books_cb_df.astype({'bookId': int})\n",
    "\n",
    "len(books_cb_df)"
   ],
   "metadata": {
    "collapsed": false,
    "pycharm": {
     "name": "#%%\n"
    }
   }
  },
  {
   "cell_type": "code",
   "execution_count": null,
   "outputs": [],
   "source": [
    "books_cb_union_df = books_df[\n",
    "    books_df.bookId.isin(set(books_cb_df.bookId.values))].copy()\n",
    "len(books_cb_union_df)"
   ],
   "metadata": {
    "collapsed": false,
    "pycharm": {
     "name": "#%%\n"
    }
   }
  },
  {
   "cell_type": "code",
   "execution_count": 118,
   "outputs": [
    {
     "data": {
      "text/plain": "          isbn13      isbn10                title subtitle  \\\n1  9780002261982  0002261987         Spider's Web  A Novel   \n2  9780006163831  0006163831         The One Tree      NaN   \n4  9780006280897  0006280897       The Four Loves      NaN   \n5  9780006280934  0006280935  The Problem of Pain      NaN   \n6  9780006353287  0006353282     An Autobiography      NaN   \n\n                           authors                     categories  \\\n1  Charles Osborne;Agatha Christie  Detective and mystery stories   \n2             Stephen R. Donaldson               American fiction   \n4              Clive Staples Lewis                 Christian life   \n5              Clive Staples Lewis                 Christian life   \n6                  Agatha Christie               Authors, English   \n\n                                           thumbnail  \\\n1  http://books.google.com/books/content?id=gA5GP...   \n2  http://books.google.com/books/content?id=OmQaw...   \n4  http://books.google.com/books/content?id=XhQ5X...   \n5  http://books.google.com/books/content?id=Kk-uV...   \n6  http://books.google.com/books/content?id=c49GQ...   \n\n                                         description  published_year  \\\n1  A new 'Christie for Christmas' -- a full-lengt...          2000.0   \n2  Volume Two of Stephen Donaldson's acclaimed se...          1982.0   \n4  Lewis' work on the nature of love divides love...          2002.0   \n5  \"In The Problem of Pain, C.S. Lewis, one of th...          2002.0   \n6                                          Donation.          1977.0   \n\n   average_rating  num_pages  ratings_count  bookId  \n1            3.83      241.0         5164.0  149628  \n2            3.97      479.0          172.0   82494  \n4            4.15      170.0        33684.0  114061  \n5            4.09      176.0        37569.0  202915  \n6            4.27      560.0         3975.0  180484  ",
      "text/html": "<div>\n<style scoped>\n    .dataframe tbody tr th:only-of-type {\n        vertical-align: middle;\n    }\n\n    .dataframe tbody tr th {\n        vertical-align: top;\n    }\n\n    .dataframe thead th {\n        text-align: right;\n    }\n</style>\n<table border=\"1\" class=\"dataframe\">\n  <thead>\n    <tr style=\"text-align: right;\">\n      <th></th>\n      <th>isbn13</th>\n      <th>isbn10</th>\n      <th>title</th>\n      <th>subtitle</th>\n      <th>authors</th>\n      <th>categories</th>\n      <th>thumbnail</th>\n      <th>description</th>\n      <th>published_year</th>\n      <th>average_rating</th>\n      <th>num_pages</th>\n      <th>ratings_count</th>\n      <th>bookId</th>\n    </tr>\n  </thead>\n  <tbody>\n    <tr>\n      <th>1</th>\n      <td>9780002261982</td>\n      <td>0002261987</td>\n      <td>Spider's Web</td>\n      <td>A Novel</td>\n      <td>Charles Osborne;Agatha Christie</td>\n      <td>Detective and mystery stories</td>\n      <td>http://books.google.com/books/content?id=gA5GP...</td>\n      <td>A new 'Christie for Christmas' -- a full-lengt...</td>\n      <td>2000.0</td>\n      <td>3.83</td>\n      <td>241.0</td>\n      <td>5164.0</td>\n      <td>149628</td>\n    </tr>\n    <tr>\n      <th>2</th>\n      <td>9780006163831</td>\n      <td>0006163831</td>\n      <td>The One Tree</td>\n      <td>NaN</td>\n      <td>Stephen R. Donaldson</td>\n      <td>American fiction</td>\n      <td>http://books.google.com/books/content?id=OmQaw...</td>\n      <td>Volume Two of Stephen Donaldson's acclaimed se...</td>\n      <td>1982.0</td>\n      <td>3.97</td>\n      <td>479.0</td>\n      <td>172.0</td>\n      <td>82494</td>\n    </tr>\n    <tr>\n      <th>4</th>\n      <td>9780006280897</td>\n      <td>0006280897</td>\n      <td>The Four Loves</td>\n      <td>NaN</td>\n      <td>Clive Staples Lewis</td>\n      <td>Christian life</td>\n      <td>http://books.google.com/books/content?id=XhQ5X...</td>\n      <td>Lewis' work on the nature of love divides love...</td>\n      <td>2002.0</td>\n      <td>4.15</td>\n      <td>170.0</td>\n      <td>33684.0</td>\n      <td>114061</td>\n    </tr>\n    <tr>\n      <th>5</th>\n      <td>9780006280934</td>\n      <td>0006280935</td>\n      <td>The Problem of Pain</td>\n      <td>NaN</td>\n      <td>Clive Staples Lewis</td>\n      <td>Christian life</td>\n      <td>http://books.google.com/books/content?id=Kk-uV...</td>\n      <td>\"In The Problem of Pain, C.S. Lewis, one of th...</td>\n      <td>2002.0</td>\n      <td>4.09</td>\n      <td>176.0</td>\n      <td>37569.0</td>\n      <td>202915</td>\n    </tr>\n    <tr>\n      <th>6</th>\n      <td>9780006353287</td>\n      <td>0006353282</td>\n      <td>An Autobiography</td>\n      <td>NaN</td>\n      <td>Agatha Christie</td>\n      <td>Authors, English</td>\n      <td>http://books.google.com/books/content?id=c49GQ...</td>\n      <td>Donation.</td>\n      <td>1977.0</td>\n      <td>4.27</td>\n      <td>560.0</td>\n      <td>3975.0</td>\n      <td>180484</td>\n    </tr>\n  </tbody>\n</table>\n</div>"
     },
     "execution_count": 118,
     "metadata": {},
     "output_type": "execute_result"
    }
   ],
   "source": [
    "books_cb_df.head()"
   ],
   "metadata": {
    "collapsed": false,
    "pycharm": {
     "name": "#%%\n"
    }
   }
  },
  {
   "cell_type": "code",
   "execution_count": 155,
   "outputs": [
    {
     "name": "stdout",
     "output_type": "stream",
     "text": [
      "3300\n"
     ]
    }
   ],
   "source": [
    "for value in books_cb_df.values:\n",
    "    bookIdToDesc[value[len(value) - 1]] = value[7]\n",
    "    bookIdToCategories[value[len(value) - 1]] = value[5]\n",
    "\n",
    "books_cb_union_df['categories'] = books_df.bookId.map(bookIdToCategories)\n",
    "books_cb_union_df['description'] = books_df.bookId.map(bookIdToDesc)"
   ],
   "metadata": {
    "collapsed": false,
    "pycharm": {
     "name": "#%%\n"
    }
   }
  },
  {
   "cell_type": "code",
   "execution_count": 157,
   "outputs": [
    {
     "name": "stdout",
     "output_type": "stream",
     "text": [
      "3300\n"
     ]
    }
   ],
   "source": [
    "\n",
    "books_cb_union_df = books_cb_union_df.dropna(subset=[\"categories\", \"description\"])\n",
    "print(len(books_cb_union_df))"
   ],
   "metadata": {
    "collapsed": false,
    "pycharm": {
     "name": "#%%\n"
    }
   }
  },
  {
   "cell_type": "code",
   "execution_count": null,
   "outputs": [],
   "source": [
    "books_cb_union_rating_df = books_ratings_df[books_ratings_df.bookId.isin(set(books_cb_union_df.bookId))]"
   ],
   "metadata": {
    "collapsed": false,
    "pycharm": {
     "name": "#%%\n"
    }
   }
  },
  {
   "cell_type": "code",
   "execution_count": 165,
   "outputs": [
    {
     "data": {
      "text/plain": "328235"
     },
     "execution_count": 165,
     "metadata": {},
     "output_type": "execute_result"
    }
   ],
   "source": [
    "len(books_ratings_df)"
   ],
   "metadata": {
    "collapsed": false,
    "pycharm": {
     "name": "#%%\n"
    }
   }
  },
  {
   "cell_type": "code",
   "execution_count": null,
   "outputs": [],
   "source": [
    "# books_ratings_df.to_csv(\"../books-ratings-edited.csv\", index=False)\n",
    "# books_df.to_csv(\"../books-info-edited.csv\", index=False)\n",
    "# books_cb_union_rating_df.to_csv(\"../books-cb-rating-edited.csv\", index=False)\n",
    "# books_cb_union_df.to_csv(\"../books-cb-edited.csv\", index=False)\n"
   ],
   "metadata": {
    "collapsed": false,
    "pycharm": {
     "name": "#%%\n"
    }
   }
  }
 ],
 "metadata": {
  "kernelspec": {
   "display_name": "Python 3",
   "language": "python",
   "name": "python3"
  },
  "language_info": {
   "codemirror_mode": {
    "name": "ipython",
    "version": 2
   },
   "file_extension": ".py",
   "mimetype": "text/x-python",
   "name": "python",
   "nbconvert_exporter": "python",
   "pygments_lexer": "ipython2",
   "version": "2.7.6"
  }
 },
 "nbformat": 4,
 "nbformat_minor": 0
}